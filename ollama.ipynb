{
 "cells": [
  {
   "cell_type": "code",
   "execution_count": 1,
   "id": "4941c529-2c0e-4112-b60d-f2d799ac428a",
   "metadata": {},
   "outputs": [],
   "source": [
    "import ollama"
   ]
  },
  {
   "cell_type": "code",
   "execution_count": 4,
   "id": "9c2ed0fd-997d-4166-810d-c2ac02f6c46f",
   "metadata": {},
   "outputs": [],
   "source": [
    "def question(q):\n",
    "    content = \"\"\"\n",
    "I want you to translate English sentences into sentences of a reduced English vocabulary, such that these result sentences can serve as input for an AutoML system.\n",
    "The reduced vocabulary consists of the following tokens: load, dataset, calculate, volume, cluster, clustering, regression, data, count, clusters, a, and, perform, using, id, surface, height, mass, density, columns.\n",
    "\n",
    "The sentences are queries or instructions regarding a dataset consisting of four columns: id (integer), surface (in square meters, float), height (in meters, float), mass (in kilograms, float). The 'id', 'surface', 'height' and 'mass' tokens of the reduced vocabulary correspond to these column names.\n",
    "These columns describe the id, surface, height and mass of each object. The volume of the object is not a column but can be calculated as the product of the surface and height. Density of the object can be calculated by dividing the mass by the volume of the object.\n",
    "\n",
    "You shouldn't do any calculations, only translate sentences to the reduced vocabulary while considering the relations between the colums of the dataset, as detailed out in the previous 2 sentences.\n",
    "From the input sentence you should deduce the type of machine learning algorithm. It should be either regression, clustering or none at all. \n",
    "\n",
    "As an example, a sentence such as `Given the objects dataset, how many types of objects can be found, according to their volume?` would be translated into `load dataset, calculate volume using the surface and height columns, cluster and count clusters`. In this case the required ML algorithm is clustering as there is no column indicating the object type. Instead, the object type is deduced by performing clustering, a type of unsupervised learning.\n",
    "Another example:  \"Train a model that can estimate density based on surface and mass given the objects dataset.\" is translated into \"load dataset, calculate density using surface and mass columns, and perform regression\". In this case the required ML algorithm is regression as density is an object property that is calculated by other columns and can thus be learned by regression, a supervised learning algorithm. \n",
    "\n",
    "Can you translate the sentence \"%s\" and reply only with the translation?\n",
    "\"\"\" %(q)\n",
    "    return ollama.chat(model='llama2', messages=[{'role': 'user', 'content': content}])"
   ]
  },
  {
   "cell_type": "code",
   "execution_count": 5,
   "id": "18cf9966-da5b-45a5-a0d8-5fe3258af012",
   "metadata": {},
   "outputs": [
    {
     "data": {
      "text/plain": [
       "{'model': 'llama2',\n",
       " 'created_at': '2024-05-04T14:25:29.209456667Z',\n",
       " 'message': {'role': 'assistant',\n",
       "  'content': ' Sure! The sentence \"Calculate the density of the objects\" translates to:\\n\\ncalculate density using surface and mass columns, perform regression'},\n",
       " 'done': True,\n",
       " 'total_duration': 1887268278,\n",
       " 'load_duration': 8886530,\n",
       " 'prompt_eval_count': 440,\n",
       " 'prompt_eval_duration': 1007305000,\n",
       " 'eval_count': 31,\n",
       " 'eval_duration': 868789000}"
      ]
     },
     "execution_count": 5,
     "metadata": {},
     "output_type": "execute_result"
    }
   ],
   "source": [
    "question(\"Calculate the density of the objects\")"
   ]
  },
  {
   "cell_type": "code",
   "execution_count": null,
   "id": "7c287b53-6b41-4058-9dee-5ad9e92763a1",
   "metadata": {},
   "outputs": [],
   "source": []
  }
 ],
 "metadata": {
  "kernelspec": {
   "display_name": "Python 3 (ipykernel)",
   "language": "python",
   "name": "python3"
  },
  "language_info": {
   "codemirror_mode": {
    "name": "ipython",
    "version": 3
   },
   "file_extension": ".py",
   "mimetype": "text/x-python",
   "name": "python",
   "nbconvert_exporter": "python",
   "pygments_lexer": "ipython3",
   "version": "3.12.2"
  }
 },
 "nbformat": 4,
 "nbformat_minor": 5
}
